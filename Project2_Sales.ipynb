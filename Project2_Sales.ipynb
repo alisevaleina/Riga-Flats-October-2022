{
 "cells": [
  {
   "cell_type": "code",
   "execution_count": 1,
   "metadata": {},
   "outputs": [],
   "source": [
    "#import packages\n",
    "import seaborn as sns\n",
    "import pandas as pd\n",
    "import math\n",
    "import numpy as np\n",
    "from IPython.display import display_html\n",
    "from IPython.core.display import display, HTML"
   ]
  },
  {
   "cell_type": "markdown",
   "metadata": {},
   "source": [
    "# Let's explore properties in Riga city center, October 2022.\n",
    "1.What's the most commom flat type for sale?\n",
    "2.What's the most expensivest type of flat?\n",
    "3.Does floor affects price?\n",
    "4.Does m2 affects price?\n",
    "5.Rent or buy?"
   ]
  },
  {
   "cell_type": "code",
   "execution_count": 2,
   "metadata": {},
   "outputs": [],
   "source": [
    "# import data and explore it\n",
    "df= pd.read_excel(r'C:\\Users\\lenovo\\Desktop\\Project2\\flats_rent_sale_edit.xlsx', sheet_name=\"Sale\")\n",
    "df_rent= pd.read_excel(r'C:\\Users\\lenovo\\Desktop\\Project2\\flats_rent_sale_edit.xlsx', sheet_name=\"Rent\")\n"
   ]
  },
  {
   "cell_type": "code",
   "execution_count": 3,
   "metadata": {},
   "outputs": [],
   "source": [
    "def display_side_by_side(dfs:list, captions:list):\n",
    "    \"\"\"Display tables side by side to save vertical space\n",
    "    Input:\n",
    "        dfs: list of pandas.DataFrame\n",
    "        captions: list of table captions\n",
    "    \"\"\"\n",
    "    output = \"\"\n",
    "    combined = dict(zip(captions, dfs))\n",
    "    for caption, df in combined.items():\n",
    "        output += df.style.set_table_attributes(\"style='display:inline'\").set_caption(caption)._repr_html_()\n",
    "        output += \"\\xa0\\xa0\\xa0\"\n",
    "    display(HTML(output))"
   ]
  },
  {
   "cell_type": "code",
   "execution_count": 4,
   "metadata": {},
   "outputs": [],
   "source": [
    "pd.set_option('display.float_format', '{:,}'.format)"
   ]
  },
  {
   "cell_type": "code",
   "execution_count": 5,
   "metadata": {},
   "outputs": [],
   "source": [
    "# clean price column\n",
    "df[\"Price\"]=df['Price'].str.replace('€', '').str.replace(\".\", '').str.strip()\n",
    "df[\"Price\"]=df[\"Price\"] + '.00'\n",
    "df[\"Price\"]=df['Price'].astype(float)"
   ]
  },
  {
   "cell_type": "code",
   "execution_count": 6,
   "metadata": {},
   "outputs": [
    {
     "data": {
      "image/png": "[encoded data removed]",
      "text/plain": [
       "<Figure size 648x360 with 1 Axes>"
      ]
     },
     "metadata": {
      "needs_background": "light"
     },
     "output_type": "display_data"
    }
   ],
   "source": [
    "#average sales price in eur per nr of rooms\n",
    "df_mean2=df.groupby(['Rooms'])['Price'].mean().reset_index().astype(int)\n",
    "ax1=df_mean2.plot.barh( x='Rooms', y= 'Price', color= '#8EB897', figsize=(9,5),width=0.7)\n",
    "#ax1.grid(linewidth=0.5,axis='x')\n",
    "ax1.set_title('Riga, Oct 2022', fontsize=11)\n",
    "ax1.set_ylabel(\"Number of Rooms\", fontsize=10)\n",
    "ax1.get_legend().remove()\n",
    "ax1.figure.suptitle('Average Flat Price in Thousands', fontsize=16 )\n",
    "y=df_mean2['Price']\n",
    "for index, value in enumerate(y):\n",
    "    ax1.text(value, index,\n",
    "             str(value) + \"€\")\n"
   ]
  },
  {
   "cell_type": "markdown",
   "metadata": {},
   "source": [
    "5 bedroom flats tend to be the most expensive."
   ]
  },
  {
   "cell_type": "code",
   "execution_count": 7,
   "metadata": {},
   "outputs": [
    {
     "data": {
      "text/plain": [
       "Rooms\n",
       "1    49\n",
       "2    92\n",
       "3    67\n",
       "4    32\n",
       "5    12\n",
       "6     6\n",
       "7     2\n",
       "dtype: int64"
      ]
     },
     "execution_count": 7,
     "metadata": {},
     "output_type": "execute_result"
    }
   ],
   "source": [
    "df.groupby(\"Rooms\").size()"
   ]
  },
  {
   "cell_type": "code",
   "execution_count": 8,
   "metadata": {},
   "outputs": [
    {
     "data": {
      "text/html": [
       "<style  type=\"text/css\" >\n",
       "</style><table id=\"T_262c643e_6016_11ed_bd85_5c879cf7915c\" style='display:inline'><caption>Sales</caption><thead>    <tr>        <th class=\"blank level0\" ></th>        <th class=\"col_heading level0 col0\" >Rooms</th>        <th class=\"col_heading level0 col1\" >m2</th>        <th class=\"col_heading level0 col2\" >Price</th>    </tr></thead><tbody>\n",
       "                <tr>\n",
       "                        <th id=\"T_262c643e_6016_11ed_bd85_5c879cf7915clevel0_row0\" class=\"row_heading level0 row0\" >Rooms</th>\n",
       "                        <td id=\"T_262c643e_6016_11ed_bd85_5c879cf7915crow0_col0\" class=\"data row0 col0\" >1.000000</td>\n",
       "                        <td id=\"T_262c643e_6016_11ed_bd85_5c879cf7915crow0_col1\" class=\"data row0 col1\" >0.852900</td>\n",
       "                        <td id=\"T_262c643e_6016_11ed_bd85_5c879cf7915crow0_col2\" class=\"data row0 col2\" >0.671884</td>\n",
       "            </tr>\n",
       "            <tr>\n",
       "                        <th id=\"T_262c643e_6016_11ed_bd85_5c879cf7915clevel0_row1\" class=\"row_heading level0 row1\" >m2</th>\n",
       "                        <td id=\"T_262c643e_6016_11ed_bd85_5c879cf7915crow1_col0\" class=\"data row1 col0\" >0.852900</td>\n",
       "                        <td id=\"T_262c643e_6016_11ed_bd85_5c879cf7915crow1_col1\" class=\"data row1 col1\" >1.000000</td>\n",
       "                        <td id=\"T_262c643e_6016_11ed_bd85_5c879cf7915crow1_col2\" class=\"data row1 col2\" >0.850008</td>\n",
       "            </tr>\n",
       "            <tr>\n",
       "                        <th id=\"T_262c643e_6016_11ed_bd85_5c879cf7915clevel0_row2\" class=\"row_heading level0 row2\" >Price</th>\n",
       "                        <td id=\"T_262c643e_6016_11ed_bd85_5c879cf7915crow2_col0\" class=\"data row2 col0\" >0.671884</td>\n",
       "                        <td id=\"T_262c643e_6016_11ed_bd85_5c879cf7915crow2_col1\" class=\"data row2 col1\" >0.850008</td>\n",
       "                        <td id=\"T_262c643e_6016_11ed_bd85_5c879cf7915crow2_col2\" class=\"data row2 col2\" >1.000000</td>\n",
       "            </tr>\n",
       "    </tbody></table>   <style  type=\"text/css\" >\n",
       "</style><table id=\"T_262d163c_6016_11ed_9e59_5c879cf7915c\" style='display:inline'><caption>Rentals</caption><thead>    <tr>        <th class=\"blank level0\" ></th>        <th class=\"col_heading level0 col0\" >Rooms</th>        <th class=\"col_heading level0 col1\" >m2</th>        <th class=\"col_heading level0 col2\" >Price</th>    </tr></thead><tbody>\n",
       "                <tr>\n",
       "                        <th id=\"T_262d163c_6016_11ed_9e59_5c879cf7915clevel0_row0\" class=\"row_heading level0 row0\" >Rooms</th>\n",
       "                        <td id=\"T_262d163c_6016_11ed_9e59_5c879cf7915crow0_col0\" class=\"data row0 col0\" >1.000000</td>\n",
       "                        <td id=\"T_262d163c_6016_11ed_9e59_5c879cf7915crow0_col1\" class=\"data row0 col1\" >0.832485</td>\n",
       "                        <td id=\"T_262d163c_6016_11ed_9e59_5c879cf7915crow0_col2\" class=\"data row0 col2\" >0.688377</td>\n",
       "            </tr>\n",
       "            <tr>\n",
       "                        <th id=\"T_262d163c_6016_11ed_9e59_5c879cf7915clevel0_row1\" class=\"row_heading level0 row1\" >m2</th>\n",
       "                        <td id=\"T_262d163c_6016_11ed_9e59_5c879cf7915crow1_col0\" class=\"data row1 col0\" >0.832485</td>\n",
       "                        <td id=\"T_262d163c_6016_11ed_9e59_5c879cf7915crow1_col1\" class=\"data row1 col1\" >1.000000</td>\n",
       "                        <td id=\"T_262d163c_6016_11ed_9e59_5c879cf7915crow1_col2\" class=\"data row1 col2\" >0.798760</td>\n",
       "            </tr>\n",
       "            <tr>\n",
       "                        <th id=\"T_262d163c_6016_11ed_9e59_5c879cf7915clevel0_row2\" class=\"row_heading level0 row2\" >Price</th>\n",
       "                        <td id=\"T_262d163c_6016_11ed_9e59_5c879cf7915crow2_col0\" class=\"data row2 col0\" >0.688377</td>\n",
       "                        <td id=\"T_262d163c_6016_11ed_9e59_5c879cf7915crow2_col1\" class=\"data row2 col1\" >0.798760</td>\n",
       "                        <td id=\"T_262d163c_6016_11ed_9e59_5c879cf7915crow2_col2\" class=\"data row2 col2\" >1.000000</td>\n",
       "            </tr>\n",
       "    </tbody></table>   "
      ],
      "text/plain": [
       "<IPython.core.display.HTML object>"
      ]
     },
     "metadata": {},
     "output_type": "display_data"
    }
   ],
   "source": [
    "#correlation coefficient\n",
    "df.corr()\n",
    "display_side_by_side([df.corr(), df_rent.corr()], ['Sales','Rentals'])"
   ]
  },
  {
   "cell_type": "markdown",
   "metadata": {},
   "source": [
    "We see that when it comes to Sales price correlation coefficient to m2 are higher then for rentals."
   ]
  },
  {
   "cell_type": "code",
   "execution_count": 9,
   "metadata": {},
   "outputs": [
    {
     "data": {
      "text/plain": [
       "Text(0, 0.5, '')"
      ]
     },
     "execution_count": 9,
     "metadata": {},
     "output_type": "execute_result"
    },
    {
     "data": {
      "image/png": "[encoded data removed]",
      "text/plain": [
       "<Figure size 432x432 with 1 Axes>"
      ]
     },
     "metadata": {},
     "output_type": "display_data"
    }
   ],
   "source": [
    "#number of rooms  %\n",
    "room_count=df.Rooms.value_counts()\n",
    "ax=room_count.plot.pie(figsize=(6,6), fontsize=12,\n",
    "                    wedgeprops = { 'linewidth' : 1, 'edgecolor' : 'white' }, \n",
    "                    colors = ['#4F6272', '#B7C3F3', '#DD7596', '#8EB897', 'grey', 'lightcoral','plum' ],\n",
    "                      autopct='%.0f%%')\n",
    "ax.set_title('Number of Rooms in Flat', fontsize=16)\n",
    "ax.set_ylabel(None)"
   ]
  },
  {
   "cell_type": "markdown",
   "metadata": {},
   "source": [
    "Majority of flats available for sale are 2 bedroom and then 3 bedroom."
   ]
  },
  {
   "cell_type": "code",
   "execution_count": 10,
   "metadata": {},
   "outputs": [
    {
     "name": "stdout",
     "output_type": "stream",
     "text": [
      "3\n"
     ]
    }
   ],
   "source": [
    "#remove whitespace before floor number\n",
    "df['Floor']=df.Floor.astype(str).str.strip()\n",
    "print(len(df.Floor[0]))"
   ]
  },
  {
   "cell_type": "code",
   "execution_count": 11,
   "metadata": {},
   "outputs": [],
   "source": [
    "#create floor categories func\n",
    "def floor_to_categories(floor_str):\n",
    "    num1, num2 = floor_str.split(\"/\")\n",
    "    if num1 == num2: return \"Top\"\n",
    "    elif num1 == \"1\": return \"Ground\"\n",
    "    return \"Middle\"\n",
    "#apply func\n",
    "df[\"Floor Type\"] = df.Floor.apply(floor_to_categories)\n",
    "\n"
   ]
  },
  {
   "cell_type": "code",
   "execution_count": 12,
   "metadata": {},
   "outputs": [],
   "source": [
    "df_sorted= df.sort_values(\"Price\",ascending=False)"
   ]
  },
  {
   "cell_type": "code",
   "execution_count": 13,
   "metadata": {},
   "outputs": [
    {
     "data": {
      "text/html": [
       "<div>\n",
       "<style scoped>\n",
       "    .dataframe tbody tr th:only-of-type {\n",
       "        vertical-align: middle;\n",
       "    }\n",
       "\n",
       "    .dataframe tbody tr th {\n",
       "        vertical-align: top;\n",
       "    }\n",
       "\n",
       "    .dataframe thead th {\n",
       "        text-align: right;\n",
       "    }\n",
       "</style>\n",
       "<table border=\"1\" class=\"dataframe\">\n",
       "  <thead>\n",
       "    <tr style=\"text-align: right;\">\n",
       "      <th></th>\n",
       "      <th>Adress</th>\n",
       "      <th>Rooms</th>\n",
       "      <th>m2</th>\n",
       "      <th>Price</th>\n",
       "      <th>Floor</th>\n",
       "      <th>Floor Type</th>\n",
       "    </tr>\n",
       "  </thead>\n",
       "  <tbody>\n",
       "    <tr>\n",
       "      <th>207</th>\n",
       "      <td>Skanstes 29а</td>\n",
       "      <td>5</td>\n",
       "      <td>325</td>\n",
       "      <td>775,000.0</td>\n",
       "      <td>23/23</td>\n",
       "      <td>Top</td>\n",
       "    </tr>\n",
       "    <tr>\n",
       "      <th>94</th>\n",
       "      <td>Elizabetes 12</td>\n",
       "      <td>4</td>\n",
       "      <td>181</td>\n",
       "      <td>724,800.0</td>\n",
       "      <td>4/5</td>\n",
       "      <td>Middle</td>\n",
       "    </tr>\n",
       "    <tr>\n",
       "      <th>43</th>\n",
       "      <td>Brīvības 76</td>\n",
       "      <td>5</td>\n",
       "      <td>250</td>\n",
       "      <td>650,000.0</td>\n",
       "      <td>4/6</td>\n",
       "      <td>Middle</td>\n",
       "    </tr>\n",
       "    <tr>\n",
       "      <th>26</th>\n",
       "      <td>Baznīcas 18A</td>\n",
       "      <td>4</td>\n",
       "      <td>142</td>\n",
       "      <td>650,000.0</td>\n",
       "      <td>7/7</td>\n",
       "      <td>Top</td>\n",
       "    </tr>\n",
       "    <tr>\n",
       "      <th>120</th>\n",
       "      <td>J. Daliņa 8</td>\n",
       "      <td>5</td>\n",
       "      <td>200</td>\n",
       "      <td>600,000.0</td>\n",
       "      <td>20/24</td>\n",
       "      <td>Middle</td>\n",
       "    </tr>\n",
       "    <tr>\n",
       "      <th>198</th>\n",
       "      <td>Rūpniecības 21k2</td>\n",
       "      <td>5</td>\n",
       "      <td>161</td>\n",
       "      <td>595,000.0</td>\n",
       "      <td>7/7</td>\n",
       "      <td>Top</td>\n",
       "    </tr>\n",
       "    <tr>\n",
       "      <th>248</th>\n",
       "      <td>Vesetas 6</td>\n",
       "      <td>4</td>\n",
       "      <td>171</td>\n",
       "      <td>593,300.0</td>\n",
       "      <td>2/7</td>\n",
       "      <td>Middle</td>\n",
       "    </tr>\n",
       "    <tr>\n",
       "      <th>252</th>\n",
       "      <td>Vīlandes 6</td>\n",
       "      <td>6</td>\n",
       "      <td>206</td>\n",
       "      <td>512,000.0</td>\n",
       "      <td>3/4</td>\n",
       "      <td>Middle</td>\n",
       "    </tr>\n",
       "    <tr>\n",
       "      <th>222</th>\n",
       "      <td>Strēlnieku 5</td>\n",
       "      <td>3</td>\n",
       "      <td>90</td>\n",
       "      <td>491,656.0</td>\n",
       "      <td>3/6</td>\n",
       "      <td>Middle</td>\n",
       "    </tr>\n",
       "    <tr>\n",
       "      <th>12</th>\n",
       "      <td>Ausekļa 4</td>\n",
       "      <td>4</td>\n",
       "      <td>125</td>\n",
       "      <td>450,000.0</td>\n",
       "      <td>5/7</td>\n",
       "      <td>Middle</td>\n",
       "    </tr>\n",
       "  </tbody>\n",
       "</table>\n",
       "</div>"
      ],
      "text/plain": [
       "               Adress  Rooms   m2     Price  Floor Floor Type\n",
       "207      Skanstes 29а      5  325 775,000.0  23/23        Top\n",
       "94      Elizabetes 12      4  181 724,800.0    4/5     Middle\n",
       "43        Brīvības 76      5  250 650,000.0    4/6     Middle\n",
       "26       Baznīcas 18A      4  142 650,000.0    7/7        Top\n",
       "120       J. Daliņa 8      5  200 600,000.0  20/24     Middle\n",
       "198  Rūpniecības 21k2      5  161 595,000.0    7/7        Top\n",
       "248         Vesetas 6      4  171 593,300.0    2/7     Middle\n",
       "252        Vīlandes 6      6  206 512,000.0    3/4     Middle\n",
       "222      Strēlnieku 5      3   90 491,656.0    3/6     Middle\n",
       "12          Ausekļa 4      4  125 450,000.0    5/7     Middle"
      ]
     },
     "execution_count": 13,
     "metadata": {},
     "output_type": "execute_result"
    }
   ],
   "source": [
    "df_sorted.head(10)"
   ]
  },
  {
   "cell_type": "code",
   "execution_count": null,
   "metadata": {},
   "outputs": [],
   "source": []
  },
  {
   "cell_type": "code",
   "execution_count": 14,
   "metadata": {},
   "outputs": [
    {
     "data": {
      "text/html": [
       "<div>\n",
       "<style scoped>\n",
       "    .dataframe tbody tr th:only-of-type {\n",
       "        vertical-align: middle;\n",
       "    }\n",
       "\n",
       "    .dataframe tbody tr th {\n",
       "        vertical-align: top;\n",
       "    }\n",
       "\n",
       "    .dataframe thead th {\n",
       "        text-align: right;\n",
       "    }\n",
       "</style>\n",
       "<table border=\"1\" class=\"dataframe\">\n",
       "  <thead>\n",
       "    <tr style=\"text-align: right;\">\n",
       "      <th></th>\n",
       "      <th>Adress</th>\n",
       "      <th>Rooms</th>\n",
       "      <th>m2</th>\n",
       "      <th>Price</th>\n",
       "      <th>Floor</th>\n",
       "      <th>Floor Type</th>\n",
       "    </tr>\n",
       "  </thead>\n",
       "  <tbody>\n",
       "    <tr>\n",
       "      <th>113</th>\n",
       "      <td>Ģertrūdes 91A</td>\n",
       "      <td>1</td>\n",
       "      <td>15</td>\n",
       "      <td>26,000.0</td>\n",
       "      <td>2/5</td>\n",
       "      <td>Middle</td>\n",
       "    </tr>\n",
       "    <tr>\n",
       "      <th>157</th>\n",
       "      <td>M. Matīsa 3</td>\n",
       "      <td>1</td>\n",
       "      <td>27</td>\n",
       "      <td>25,900.0</td>\n",
       "      <td>1/5</td>\n",
       "      <td>Ground</td>\n",
       "    </tr>\n",
       "    <tr>\n",
       "      <th>77</th>\n",
       "      <td>Duntes 50</td>\n",
       "      <td>2</td>\n",
       "      <td>37</td>\n",
       "      <td>24,800.0</td>\n",
       "      <td>1/4</td>\n",
       "      <td>Ground</td>\n",
       "    </tr>\n",
       "    <tr>\n",
       "      <th>163</th>\n",
       "      <td>Maskavas 11</td>\n",
       "      <td>1</td>\n",
       "      <td>26</td>\n",
       "      <td>23,850.0</td>\n",
       "      <td>1/2</td>\n",
       "      <td>Ground</td>\n",
       "    </tr>\n",
       "    <tr>\n",
       "      <th>165</th>\n",
       "      <td>Maskavas 11</td>\n",
       "      <td>1</td>\n",
       "      <td>24</td>\n",
       "      <td>22,000.0</td>\n",
       "      <td>1/2</td>\n",
       "      <td>Ground</td>\n",
       "    </tr>\n",
       "    <tr>\n",
       "      <th>152</th>\n",
       "      <td>Lenču 2</td>\n",
       "      <td>1</td>\n",
       "      <td>50</td>\n",
       "      <td>20,000.0</td>\n",
       "      <td>1/6</td>\n",
       "      <td>Ground</td>\n",
       "    </tr>\n",
       "    <tr>\n",
       "      <th>164</th>\n",
       "      <td>Maskavas 11</td>\n",
       "      <td>1</td>\n",
       "      <td>22</td>\n",
       "      <td>19,950.0</td>\n",
       "      <td>1/2</td>\n",
       "      <td>Ground</td>\n",
       "    </tr>\n",
       "    <tr>\n",
       "      <th>127</th>\n",
       "      <td>Katrīnas 8</td>\n",
       "      <td>1</td>\n",
       "      <td>30</td>\n",
       "      <td>18,700.0</td>\n",
       "      <td>1/2</td>\n",
       "      <td>Ground</td>\n",
       "    </tr>\n",
       "    <tr>\n",
       "      <th>253</th>\n",
       "      <td>Zaķu 6</td>\n",
       "      <td>1</td>\n",
       "      <td>31</td>\n",
       "      <td>18,000.0</td>\n",
       "      <td>2/2</td>\n",
       "      <td>Top</td>\n",
       "    </tr>\n",
       "    <tr>\n",
       "      <th>126</th>\n",
       "      <td>Katrīnas 8</td>\n",
       "      <td>3</td>\n",
       "      <td>36</td>\n",
       "      <td>17,500.0</td>\n",
       "      <td>2/2</td>\n",
       "      <td>Top</td>\n",
       "    </tr>\n",
       "  </tbody>\n",
       "</table>\n",
       "</div>"
      ],
      "text/plain": [
       "            Adress  Rooms  m2    Price Floor Floor Type\n",
       "113  Ģertrūdes 91A      1  15 26,000.0   2/5     Middle\n",
       "157    M. Matīsa 3      1  27 25,900.0   1/5     Ground\n",
       "77       Duntes 50      2  37 24,800.0   1/4     Ground\n",
       "163    Maskavas 11      1  26 23,850.0   1/2     Ground\n",
       "165    Maskavas 11      1  24 22,000.0   1/2     Ground\n",
       "152        Lenču 2      1  50 20,000.0   1/6     Ground\n",
       "164    Maskavas 11      1  22 19,950.0   1/2     Ground\n",
       "127     Katrīnas 8      1  30 18,700.0   1/2     Ground\n",
       "253         Zaķu 6      1  31 18,000.0   2/2        Top\n",
       "126     Katrīnas 8      3  36 17,500.0   2/2        Top"
      ]
     },
     "execution_count": 14,
     "metadata": {},
     "output_type": "execute_result"
    }
   ],
   "source": [
    "df_sorted.tail(10)"
   ]
  },
  {
   "cell_type": "code",
   "execution_count": 15,
   "metadata": {},
   "outputs": [
    {
     "data": {
      "text/html": [
       "<div>\n",
       "<style scoped>\n",
       "    .dataframe tbody tr th:only-of-type {\n",
       "        vertical-align: middle;\n",
       "    }\n",
       "\n",
       "    .dataframe tbody tr th {\n",
       "        vertical-align: top;\n",
       "    }\n",
       "\n",
       "    .dataframe thead th {\n",
       "        text-align: right;\n",
       "    }\n",
       "</style>\n",
       "<table border=\"1\" class=\"dataframe\">\n",
       "  <thead>\n",
       "    <tr style=\"text-align: right;\">\n",
       "      <th></th>\n",
       "      <th>Floor Type</th>\n",
       "      <th>Price</th>\n",
       "    </tr>\n",
       "  </thead>\n",
       "  <tbody>\n",
       "    <tr>\n",
       "      <th>0</th>\n",
       "      <td>Ground</td>\n",
       "      <td>115469</td>\n",
       "    </tr>\n",
       "    <tr>\n",
       "      <th>1</th>\n",
       "      <td>Middle</td>\n",
       "      <td>162285</td>\n",
       "    </tr>\n",
       "    <tr>\n",
       "      <th>2</th>\n",
       "      <td>Top</td>\n",
       "      <td>171186</td>\n",
       "    </tr>\n",
       "  </tbody>\n",
       "</table>\n",
       "</div>"
      ],
      "text/plain": [
       "  Floor Type   Price\n",
       "0     Ground  115469\n",
       "1     Middle  162285\n",
       "2        Top  171186"
      ]
     },
     "execution_count": 15,
     "metadata": {},
     "output_type": "execute_result"
    }
   ],
   "source": [
    "df.groupby(\"Floor Type\").Price.mean().astype(int).reset_index()"
   ]
  },
  {
   "cell_type": "markdown",
   "metadata": {},
   "source": [
    "We see that on average top floor tend be be more expensive, however looking at top 10 most expensive properties for sale majority of them are on the middle floor.And the majority of the cheapest properties are on the ground floor."
   ]
  },
  {
   "cell_type": "code",
   "execution_count": 16,
   "metadata": {},
   "outputs": [
    {
     "data": {
      "text/plain": [
       "<AxesSubplot:xlabel='Rooms', ylabel='Price'>"
      ]
     },
     "execution_count": 16,
     "metadata": {},
     "output_type": "execute_result"
    },
    {
     "data": {
      "image/png": "[encoded data removed]",
      "text/plain": [
       "<Figure size 720x504 with 1 Axes>"
      ]
     },
     "metadata": {},
     "output_type": "display_data"
    }
   ],
   "source": [
    "sns.set(rc = {'figure.figsize':(10,7)})\n",
    "sns.violinplot(x=\"Rooms\", y=\"Price\", data=df,\n",
    "               palette=[\"lightblue\", \"lightpink\",\"lightgrey\",'beige','lightgreen','lightcoral','plum'])\n"
   ]
  },
  {
   "cell_type": "markdown",
   "metadata": {},
   "source": [
    "One bedroom flats tend to sell around medium price this is still noticeable for two bedroom flats as well , while the other flats very vary in price."
   ]
  },
  {
   "cell_type": "code",
   "execution_count": 17,
   "metadata": {},
   "outputs": [
    {
     "name": "stdout",
     "output_type": "stream",
     "text": [
      "               Adress  Rooms   m2     Price  Floor Floor Type Size Category\n",
      "207      Skanstes 29а      5  325 775,000.0  23/23        Top          Huge\n",
      "94      Elizabetes 12      4  181 724,800.0    4/5     Middle          Huge\n",
      "43        Brīvības 76      5  250 650,000.0    4/6     Middle          Huge\n",
      "26       Baznīcas 18A      4  142 650,000.0    7/7        Top           Big\n",
      "120       J. Daliņa 8      5  200 600,000.0  20/24     Middle          Huge\n",
      "198  Rūpniecības 21k2      5  161 595,000.0    7/7        Top          Huge\n",
      "248         Vesetas 6      4  171 593,300.0    2/7     Middle          Huge\n",
      "252        Vīlandes 6      6  206 512,000.0    3/4     Middle          Huge\n",
      "222      Strēlnieku 5      3   90 491,656.0    3/6     Middle           Big\n",
      "12          Ausekļa 4      4  125 450,000.0    5/7     Middle           Big\n"
     ]
    }
   ],
   "source": [
    "#create size categories for m2 using condition statements\n",
    "\n",
    "category = []\n",
    "for i in df_sorted['m2']:\n",
    "    if i <=30:\n",
    "        category.append('Small')   \n",
    "    elif i <= 80:\n",
    "        category.append('Normal')\n",
    "    elif i <= 160:\n",
    "        category.append('Big')\n",
    "    else:\n",
    "        category.append('Huge')\n",
    "\n",
    "df_sorted['Size Category'] = category\n",
    "print(df_sorted.head(10))"
   ]
  },
  {
   "cell_type": "markdown",
   "metadata": {},
   "source": [
    "When we looked at rentals, top floors were the most expensivest however it's not true for apartments for sales, here size matters more."
   ]
  },
  {
   "cell_type": "code",
   "execution_count": 18,
   "metadata": {},
   "outputs": [
    {
     "data": {
      "text/plain": [
       "<AxesSubplot:xlabel='Size Category', ylabel='Price'>"
      ]
     },
     "execution_count": 18,
     "metadata": {},
     "output_type": "execute_result"
    },
    {
     "data": {
      "image/png": "[encoded data removed]",
      "text/plain": [
       "<Figure size 720x504 with 1 Axes>"
      ]
     },
     "metadata": {},
     "output_type": "display_data"
    }
   ],
   "source": [
    "sns.set(rc = {'figure.figsize':(10,7)})\n",
    "sns.violinplot(x=\"Size Category\", y=\"Price\", data=df_sorted)\n"
   ]
  },
  {
   "cell_type": "code",
   "execution_count": null,
   "metadata": {},
   "outputs": [],
   "source": []
  },
  {
   "cell_type": "code",
   "execution_count": 19,
   "metadata": {},
   "outputs": [
    {
     "data": {
      "text/html": [
       "<div>\n",
       "<style scoped>\n",
       "    .dataframe tbody tr th:only-of-type {\n",
       "        vertical-align: middle;\n",
       "    }\n",
       "\n",
       "    .dataframe tbody tr th {\n",
       "        vertical-align: top;\n",
       "    }\n",
       "\n",
       "    .dataframe thead tr th {\n",
       "        text-align: left;\n",
       "    }\n",
       "</style>\n",
       "<table border=\"1\" class=\"dataframe\">\n",
       "  <thead>\n",
       "    <tr>\n",
       "      <th></th>\n",
       "      <th>Size Category</th>\n",
       "      <th colspan=\"3\" halign=\"left\">Price</th>\n",
       "    </tr>\n",
       "    <tr>\n",
       "      <th></th>\n",
       "      <th></th>\n",
       "      <th>min</th>\n",
       "      <th>max</th>\n",
       "      <th>mean</th>\n",
       "    </tr>\n",
       "  </thead>\n",
       "  <tbody>\n",
       "    <tr>\n",
       "      <th>0</th>\n",
       "      <td>Big</td>\n",
       "      <td>85000</td>\n",
       "      <td>650000</td>\n",
       "      <td>249948</td>\n",
       "    </tr>\n",
       "    <tr>\n",
       "      <th>1</th>\n",
       "      <td>Huge</td>\n",
       "      <td>169000</td>\n",
       "      <td>775000</td>\n",
       "      <td>449162</td>\n",
       "    </tr>\n",
       "    <tr>\n",
       "      <th>2</th>\n",
       "      <td>Normal</td>\n",
       "      <td>17500</td>\n",
       "      <td>303200</td>\n",
       "      <td>104211</td>\n",
       "    </tr>\n",
       "    <tr>\n",
       "      <th>3</th>\n",
       "      <td>Small</td>\n",
       "      <td>18700</td>\n",
       "      <td>96200</td>\n",
       "      <td>47215</td>\n",
       "    </tr>\n",
       "  </tbody>\n",
       "</table>\n",
       "</div>"
      ],
      "text/plain": [
       "  Size Category   Price                \n",
       "                    min     max    mean\n",
       "0           Big   85000  650000  249948\n",
       "1          Huge  169000  775000  449162\n",
       "2        Normal   17500  303200  104211\n",
       "3         Small   18700   96200   47215"
      ]
     },
     "execution_count": 19,
     "metadata": {},
     "output_type": "execute_result"
    }
   ],
   "source": [
    "#explore price in each size category\n",
    "df_sorted.groupby('Size Category')[['Price']].aggregate([min, max, 'mean']).astype(int).reset_index()"
   ]
  },
  {
   "cell_type": "code",
   "execution_count": 24,
   "metadata": {},
   "outputs": [
    {
     "data": {
      "text/html": [
       "<div>\n",
       "<style scoped>\n",
       "    .dataframe tbody tr th:only-of-type {\n",
       "        vertical-align: middle;\n",
       "    }\n",
       "\n",
       "    .dataframe tbody tr th {\n",
       "        vertical-align: top;\n",
       "    }\n",
       "\n",
       "    .dataframe thead th {\n",
       "        text-align: right;\n",
       "    }\n",
       "</style>\n",
       "<table border=\"1\" class=\"dataframe\">\n",
       "  <thead>\n",
       "    <tr style=\"text-align: right;\">\n",
       "      <th></th>\n",
       "      <th>Rooms</th>\n",
       "      <th>m2</th>\n",
       "      <th>Price</th>\n",
       "    </tr>\n",
       "  </thead>\n",
       "  <tbody>\n",
       "    <tr>\n",
       "      <th>0</th>\n",
       "      <td>1</td>\n",
       "      <td>29</td>\n",
       "      <td>49067</td>\n",
       "    </tr>\n",
       "    <tr>\n",
       "      <th>1</th>\n",
       "      <td>2</td>\n",
       "      <td>50</td>\n",
       "      <td>102219</td>\n",
       "    </tr>\n",
       "    <tr>\n",
       "      <th>2</th>\n",
       "      <td>3</td>\n",
       "      <td>82</td>\n",
       "      <td>183649</td>\n",
       "    </tr>\n",
       "    <tr>\n",
       "      <th>3</th>\n",
       "      <td>4</td>\n",
       "      <td>114</td>\n",
       "      <td>261370</td>\n",
       "    </tr>\n",
       "    <tr>\n",
       "      <th>4</th>\n",
       "      <td>5</td>\n",
       "      <td>167</td>\n",
       "      <td>390307</td>\n",
       "    </tr>\n",
       "    <tr>\n",
       "      <th>5</th>\n",
       "      <td>6</td>\n",
       "      <td>175</td>\n",
       "      <td>324166</td>\n",
       "    </tr>\n",
       "    <tr>\n",
       "      <th>6</th>\n",
       "      <td>7</td>\n",
       "      <td>170</td>\n",
       "      <td>246500</td>\n",
       "    </tr>\n",
       "  </tbody>\n",
       "</table>\n",
       "</div>"
      ],
      "text/plain": [
       "   Rooms   m2   Price\n",
       "0      1   29   49067\n",
       "1      2   50  102219\n",
       "2      3   82  183649\n",
       "3      4  114  261370\n",
       "4      5  167  390307\n",
       "5      6  175  324166\n",
       "6      7  170  246500"
      ]
     },
     "execution_count": 24,
     "metadata": {},
     "output_type": "execute_result"
    }
   ],
   "source": [
    "function_dictionary = {'m2':'mean','Price':'mean'}\n",
    "df_sorted.groupby(\"Rooms\").aggregate(function_dictionary).astype(int).reset_index()"
   ]
  },
  {
   "cell_type": "code",
   "execution_count": 21,
   "metadata": {},
   "outputs": [
    {
     "data": {
      "text/plain": [
       "Size Category\n",
       "Big        64\n",
       "Huge       14\n",
       "Normal    153\n",
       "Small      29\n",
       "dtype: int64"
      ]
     },
     "execution_count": 21,
     "metadata": {},
     "output_type": "execute_result"
    }
   ],
   "source": [
    "#explore number of flats available in each size category\n",
    "df_sorted.groupby(\"Size Category\").size()"
   ]
  },
  {
   "cell_type": "code",
   "execution_count": 22,
   "metadata": {},
   "outputs": [
    {
     "data": {
      "text/plain": [
       "22.313282872568994"
      ]
     },
     "execution_count": 22,
     "metadata": {},
     "output_type": "execute_result"
    }
   ],
   "source": [
    "#Price-to-Rent Ratio\n",
    "df['Price'].mean() /(df_rent['Price'].mean() * 12) "
   ]
  },
  {
   "cell_type": "markdown",
   "metadata": {},
   "source": [
    "Price-to-rent ratio of 21 or more indicates it is much better to rent than buy."
   ]
  },
  {
   "cell_type": "code",
   "execution_count": null,
   "metadata": {},
   "outputs": [],
   "source": []
  }
 ],
 "metadata": {
  "kernelspec": {
   "display_name": "Python 3",
   "language": "python",
   "name": "python3"
  },
  "language_info": {
   "codemirror_mode": {
    "name": "ipython",
    "version": 3
   },
   "file_extension": ".py",
   "mimetype": "text/x-python",
   "name": "python",
   "nbconvert_exporter": "python",
   "pygments_lexer": "ipython3",
   "version": "3.8.5"
  }
 },
 "nbformat": 4,
 "nbformat_minor": 4
}
