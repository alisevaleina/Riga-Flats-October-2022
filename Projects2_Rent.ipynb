{
 "cells": [
  {
   "cell_type": "code",
   "execution_count": 1,
   "metadata": {},
   "outputs": [],
   "source": [
    "#import packages\n",
    "import seaborn as sns\n",
    "import pandas as pd\n",
    "import math\n",
    "import numpy as np"
   ]
  },
  {
   "cell_type": "markdown",
   "metadata": {},
   "source": [
    "# Let's look at rentals in Riga city centre, October 2022.\n"
   ]
  },
  {
   "cell_type": "code",
   "execution_count": 2,
   "metadata": {},
   "outputs": [
    {
     "data": {
      "text/html": [
       "<div>\n",
       "<style scoped>\n",
       "    .dataframe tbody tr th:only-of-type {\n",
       "        vertical-align: middle;\n",
       "    }\n",
       "\n",
       "    .dataframe tbody tr th {\n",
       "        vertical-align: top;\n",
       "    }\n",
       "\n",
       "    .dataframe thead th {\n",
       "        text-align: right;\n",
       "    }\n",
       "</style>\n",
       "<table border=\"1\" class=\"dataframe\">\n",
       "  <thead>\n",
       "    <tr style=\"text-align: right;\">\n",
       "      <th></th>\n",
       "      <th>Adress</th>\n",
       "      <th>Rooms</th>\n",
       "      <th>m2</th>\n",
       "      <th>Price</th>\n",
       "      <th>Floor</th>\n",
       "    </tr>\n",
       "  </thead>\n",
       "  <tbody>\n",
       "    <tr>\n",
       "      <th>0</th>\n",
       "      <td>Abrenes 11</td>\n",
       "      <td>1</td>\n",
       "      <td>40</td>\n",
       "      <td>350</td>\n",
       "      <td>2/6</td>\n",
       "    </tr>\n",
       "    <tr>\n",
       "      <th>1</th>\n",
       "      <td>Alauksta 10</td>\n",
       "      <td>1</td>\n",
       "      <td>34</td>\n",
       "      <td>300</td>\n",
       "      <td>2/6</td>\n",
       "    </tr>\n",
       "    <tr>\n",
       "      <th>2</th>\n",
       "      <td>Alberta 2A</td>\n",
       "      <td>3</td>\n",
       "      <td>67</td>\n",
       "      <td>750</td>\n",
       "      <td>1/4</td>\n",
       "    </tr>\n",
       "    <tr>\n",
       "      <th>3</th>\n",
       "      <td>Alūksnes 1</td>\n",
       "      <td>2</td>\n",
       "      <td>51</td>\n",
       "      <td>650</td>\n",
       "      <td>3/6</td>\n",
       "    </tr>\n",
       "    <tr>\n",
       "      <th>4</th>\n",
       "      <td>Alūksnes 2</td>\n",
       "      <td>2</td>\n",
       "      <td>53</td>\n",
       "      <td>370</td>\n",
       "      <td>4/5</td>\n",
       "    </tr>\n",
       "  </tbody>\n",
       "</table>\n",
       "</div>"
      ],
      "text/plain": [
       "        Adress  Rooms  m2  Price Floor\n",
       "0   Abrenes 11      1  40    350   2/6\n",
       "1  Alauksta 10      1  34    300   2/6\n",
       "2   Alberta 2A      3  67    750   1/4\n",
       "3   Alūksnes 1      2  51    650   3/6\n",
       "4   Alūksnes 2      2  53    370   4/5"
      ]
     },
     "execution_count": 2,
     "metadata": {},
     "output_type": "execute_result"
    }
   ],
   "source": [
    "# import data and explore it\n",
    "df= pd.read_excel(r'C:\\Users\\lenovo\\Desktop\\Project2\\flats_rent_sale_edit.xlsx', sheet_name=\"Rent\")\n",
    "df.head()"
   ]
  },
  {
   "cell_type": "code",
   "execution_count": 7,
   "metadata": {},
   "outputs": [
    {
     "data": {
      "text/html": [
       "<div>\n",
       "<style scoped>\n",
       "    .dataframe tbody tr th:only-of-type {\n",
       "        vertical-align: middle;\n",
       "    }\n",
       "\n",
       "    .dataframe tbody tr th {\n",
       "        vertical-align: top;\n",
       "    }\n",
       "\n",
       "    .dataframe thead th {\n",
       "        text-align: right;\n",
       "    }\n",
       "</style>\n",
       "<table border=\"1\" class=\"dataframe\">\n",
       "  <thead>\n",
       "    <tr style=\"text-align: right;\">\n",
       "      <th></th>\n",
       "      <th>Rooms</th>\n",
       "      <th>m2</th>\n",
       "      <th>Price</th>\n",
       "    </tr>\n",
       "  </thead>\n",
       "  <tbody>\n",
       "    <tr>\n",
       "      <th>Rooms</th>\n",
       "      <td>1.000000</td>\n",
       "      <td>0.832485</td>\n",
       "      <td>0.688377</td>\n",
       "    </tr>\n",
       "    <tr>\n",
       "      <th>m2</th>\n",
       "      <td>0.832485</td>\n",
       "      <td>1.000000</td>\n",
       "      <td>0.798760</td>\n",
       "    </tr>\n",
       "    <tr>\n",
       "      <th>Price</th>\n",
       "      <td>0.688377</td>\n",
       "      <td>0.798760</td>\n",
       "      <td>1.000000</td>\n",
       "    </tr>\n",
       "  </tbody>\n",
       "</table>\n",
       "</div>"
      ],
      "text/plain": [
       "          Rooms        m2     Price\n",
       "Rooms  1.000000  0.832485  0.688377\n",
       "m2     0.832485  1.000000  0.798760\n",
       "Price  0.688377  0.798760  1.000000"
      ]
     },
     "execution_count": 7,
     "metadata": {},
     "output_type": "execute_result"
    }
   ],
   "source": [
    "df.corr()"
   ]
  },
  {
   "cell_type": "code",
   "execution_count": 65,
   "metadata": {},
   "outputs": [
    {
     "data": {
      "text/html": [
       "<div>\n",
       "<style scoped>\n",
       "    .dataframe tbody tr th:only-of-type {\n",
       "        vertical-align: middle;\n",
       "    }\n",
       "\n",
       "    .dataframe tbody tr th {\n",
       "        vertical-align: top;\n",
       "    }\n",
       "\n",
       "    .dataframe thead th {\n",
       "        text-align: right;\n",
       "    }\n",
       "</style>\n",
       "<table border=\"1\" class=\"dataframe\">\n",
       "  <thead>\n",
       "    <tr style=\"text-align: right;\">\n",
       "      <th></th>\n",
       "      <th>Rooms</th>\n",
       "      <th>m2</th>\n",
       "      <th>Price</th>\n",
       "    </tr>\n",
       "  </thead>\n",
       "  <tbody>\n",
       "    <tr>\n",
       "      <th>count</th>\n",
       "      <td>249</td>\n",
       "      <td>249</td>\n",
       "      <td>249</td>\n",
       "    </tr>\n",
       "    <tr>\n",
       "      <th>mean</th>\n",
       "      <td>2</td>\n",
       "      <td>63</td>\n",
       "      <td>568</td>\n",
       "    </tr>\n",
       "    <tr>\n",
       "      <th>std</th>\n",
       "      <td>1</td>\n",
       "      <td>39</td>\n",
       "      <td>399</td>\n",
       "    </tr>\n",
       "    <tr>\n",
       "      <th>min</th>\n",
       "      <td>1</td>\n",
       "      <td>12</td>\n",
       "      <td>90</td>\n",
       "    </tr>\n",
       "    <tr>\n",
       "      <th>25%</th>\n",
       "      <td>1</td>\n",
       "      <td>38</td>\n",
       "      <td>320</td>\n",
       "    </tr>\n",
       "    <tr>\n",
       "      <th>50%</th>\n",
       "      <td>2</td>\n",
       "      <td>55</td>\n",
       "      <td>445</td>\n",
       "    </tr>\n",
       "    <tr>\n",
       "      <th>75%</th>\n",
       "      <td>3</td>\n",
       "      <td>80</td>\n",
       "      <td>700</td>\n",
       "    </tr>\n",
       "    <tr>\n",
       "      <th>max</th>\n",
       "      <td>8</td>\n",
       "      <td>325</td>\n",
       "      <td>2800</td>\n",
       "    </tr>\n",
       "  </tbody>\n",
       "</table>\n",
       "</div>"
      ],
      "text/plain": [
       "       Rooms   m2  Price\n",
       "count    249  249    249\n",
       "mean       2   63    568\n",
       "std        1   39    399\n",
       "min        1   12     90\n",
       "25%        1   38    320\n",
       "50%        2   55    445\n",
       "75%        3   80    700\n",
       "max        8  325   2800"
      ]
     },
     "execution_count": 65,
     "metadata": {},
     "output_type": "execute_result"
    }
   ],
   "source": [
    "df.describe().astype(int)"
   ]
  },
  {
   "cell_type": "code",
   "execution_count": 63,
   "metadata": {},
   "outputs": [
    {
     "data": {
      "text/plain": [
       "Adress           object\n",
       "Rooms             int64\n",
       "m2                int64\n",
       "Price             int64\n",
       "Floor            object\n",
       "Floor Type       object\n",
       "Size Category    object\n",
       "dtype: object"
      ]
     },
     "execution_count": 63,
     "metadata": {},
     "output_type": "execute_result"
    }
   ],
   "source": [
    "df.dtypes"
   ]
  },
  {
   "cell_type": "code",
   "execution_count": 84,
   "metadata": {},
   "outputs": [
    {
     "data": {
      "image/png": "[encoded data removed]",
      "text/plain": [
       "<Figure size 648x360 with 1 Axes>"
      ]
     },
     "metadata": {
      "needs_background": "light"
     },
     "output_type": "display_data"
    }
   ],
   "source": [
    "#average rent price in eur per nr of rooms\n",
    "df_mean2=df.groupby(['Rooms'])['Price'].mean().reset_index().astype(int)\n",
    "ax1=df_mean2.plot.barh( x='Rooms', y= 'Price', color= '#8EB897', figsize=(9,5),width=0.7)\n",
    "#ax1.grid(linewidth=0.5,axis='x')\n",
    "ax1.set_title('Riga, Oct 2022', fontsize=11)\n",
    "ax1.set_ylabel(\"Number of Rooms\", fontsize=10)\n",
    "ax1.get_legend().remove()\n",
    "ax1.figure.suptitle('Average Rent Price', fontsize=16 )\n",
    "y=df_mean2['Price']\n",
    "for index, value in enumerate(y):\n",
    "    ax1.text(value, index,\n",
    "             str(value) + \"€\")\n",
    "\n",
    "\n",
    "\n"
   ]
  },
  {
   "cell_type": "code",
   "execution_count": null,
   "metadata": {},
   "outputs": [],
   "source": []
  },
  {
   "cell_type": "code",
   "execution_count": 3,
   "metadata": {},
   "outputs": [
    {
     "data": {
      "text/plain": [
       "Text(0, 0.5, '')"
      ]
     },
     "execution_count": 3,
     "metadata": {},
     "output_type": "execute_result"
    },
    {
     "data": {
      "image/png": "[encoded data removed]",
      "text/plain": [
       "<Figure size 432x432 with 1 Axes>"
      ]
     },
     "metadata": {},
     "output_type": "display_data"
    }
   ],
   "source": [
    "#number of rooms  %\n",
    "room_count=df.Rooms.value_counts()\n",
    "ax=room_count.plot.pie(figsize=(6,6), fontsize=12,\n",
    "                    wedgeprops = { 'linewidth' : 1, 'edgecolor' : 'white' }, \n",
    "                    colors = ['#4F6272', '#B7C3F3', '#DD7596', '#8EB897', 'grey', 'beige' ],\n",
    "                      autopct='%.0f%%')\n",
    "ax.set_title('Number of Rooms in Flat', fontsize=16)\n",
    "ax.set_ylabel(None)"
   ]
  },
  {
   "cell_type": "markdown",
   "metadata": {},
   "source": [
    "Majority of flats available for rent are 2 bedroom, then 1 bedroom and 3 bedroom."
   ]
  },
  {
   "cell_type": "code",
   "execution_count": 4,
   "metadata": {},
   "outputs": [
    {
     "data": {
      "text/plain": [
       "<AxesSubplot:xlabel='Rooms', ylabel='Price'>"
      ]
     },
     "execution_count": 4,
     "metadata": {},
     "output_type": "execute_result"
    },
    {
     "data": {
      "image/png": "[encoded data removed]",
      "text/plain": [
       "<Figure size 720x504 with 1 Axes>"
      ]
     },
     "metadata": {},
     "output_type": "display_data"
    }
   ],
   "source": [
    "sns.set(rc = {'figure.figsize':(10,7)})\n",
    "sns.violinplot(x=\"Rooms\", y=\"Price\", data=df,\n",
    "               palette=[\"lightblue\", \"lightpink\",\"lightgrey\"])\n"
   ]
  },
  {
   "cell_type": "markdown",
   "metadata": {},
   "source": [
    "We conclude that for 1 bedroom and 2 bedroom flats medium price is the most common, it’s the most pronounced in 1 bedroom flats, while the other flats vary in price. The highest price variability we see for the 5 bedroom flats. There is just one data set for 8 bedroom flats."
   ]
  },
  {
   "cell_type": "code",
   "execution_count": 9,
   "metadata": {},
   "outputs": [
    {
     "name": "stdout",
     "output_type": "stream",
     "text": [
      "3\n"
     ]
    }
   ],
   "source": [
    "#remove whitespace before floor number and turn it in string\n",
    "df['Floor']=df.Floor.astype(str).str.strip()\n",
    "print(len(df.Floor[0]))\n"
   ]
  },
  {
   "cell_type": "code",
   "execution_count": 98,
   "metadata": {},
   "outputs": [],
   "source": [
    "#create floor categories func\n",
    "def floor_to_categories(floor_str):\n",
    "    num1, num2 = floor_str.split(\"/\")\n",
    "    if num1 == num2: return \"Top\"\n",
    "    elif num1 == \"1\": return \"Ground\"\n",
    "    return \"Middle\"\n",
    "#apply func\n",
    "df[\"Floor Type\"] = df.Floor.apply(floor_to_categories)\n",
    "#explore average price per floor category\n",
    "AvgpriceByFloorType=df.groupby(\"Floor Type\").Price.mean().astype(int).reset_index()\n"
   ]
  },
  {
   "cell_type": "code",
   "execution_count": 99,
   "metadata": {},
   "outputs": [],
   "source": [
    "#Top 10 most expensive flats for rent\n",
    "\n",
    "df_sorted= df.sort_values(\"Price\",ascending=False)\n",
    "top10=df_sorted.head(10).groupby(\"Floor Type\").Price.mean().astype(int).reset_index()\n"
   ]
  },
  {
   "cell_type": "code",
   "execution_count": 100,
   "metadata": {},
   "outputs": [],
   "source": [
    "#Top 10 least expensive flats for rent\n",
    "last10=df_sorted.tail(10).groupby(\"Floor Type\").Price.mean().astype(int).reset_index()\n"
   ]
  },
  {
   "cell_type": "code",
   "execution_count": null,
   "metadata": {},
   "outputs": [],
   "source": []
  },
  {
   "cell_type": "code",
   "execution_count": 16,
   "metadata": {},
   "outputs": [],
   "source": [
    "from IPython.display import display_html\n",
    "from IPython.core.display import display, HTML\n",
    "\n",
    "def display_side_by_side(dfs:list, captions:list):\n",
    "    \"\"\"Display tables side by side to save vertical space\n",
    "    Input:\n",
    "        dfs: list of pandas.DataFrame\n",
    "        captions: list of table captions\n",
    "    \"\"\"\n",
    "    output = \"\"\n",
    "    combined = dict(zip(captions, dfs))\n",
    "    for caption, df in combined.items():\n",
    "        output += df.style.set_table_attributes(\"style='display:inline'\").set_caption(caption)._repr_html_()\n",
    "        output += \"\\xa0\\xa0\\xa0\"\n",
    "    display(HTML(output))"
   ]
  },
  {
   "cell_type": "code",
   "execution_count": 101,
   "metadata": {},
   "outputs": [
    {
     "data": {
      "text/html": [
       "<style  type=\"text/css\" >\n",
       "</style><table id=\"T_238eba34_5c7b_11ed_8ada_5c879cf7915c\" style='display:inline'><caption>10 Most Expensive</caption><thead>    <tr>        <th class=\"blank level0\" ></th>        <th class=\"col_heading level0 col0\" >Floor Type</th>        <th class=\"col_heading level0 col1\" >Price</th>    </tr></thead><tbody>\n",
       "                <tr>\n",
       "                        <th id=\"T_238eba34_5c7b_11ed_8ada_5c879cf7915clevel0_row0\" class=\"row_heading level0 row0\" >0</th>\n",
       "                        <td id=\"T_238eba34_5c7b_11ed_8ada_5c879cf7915crow0_col0\" class=\"data row0 col0\" >Ground</td>\n",
       "                        <td id=\"T_238eba34_5c7b_11ed_8ada_5c879cf7915crow0_col1\" class=\"data row0 col1\" >1600</td>\n",
       "            </tr>\n",
       "            <tr>\n",
       "                        <th id=\"T_238eba34_5c7b_11ed_8ada_5c879cf7915clevel0_row1\" class=\"row_heading level0 row1\" >1</th>\n",
       "                        <td id=\"T_238eba34_5c7b_11ed_8ada_5c879cf7915crow1_col0\" class=\"data row1 col0\" >Middle</td>\n",
       "                        <td id=\"T_238eba34_5c7b_11ed_8ada_5c879cf7915crow1_col1\" class=\"data row1 col1\" >1637</td>\n",
       "            </tr>\n",
       "            <tr>\n",
       "                        <th id=\"T_238eba34_5c7b_11ed_8ada_5c879cf7915clevel0_row2\" class=\"row_heading level0 row2\" >2</th>\n",
       "                        <td id=\"T_238eba34_5c7b_11ed_8ada_5c879cf7915crow2_col0\" class=\"data row2 col0\" >Top</td>\n",
       "                        <td id=\"T_238eba34_5c7b_11ed_8ada_5c879cf7915crow2_col1\" class=\"data row2 col1\" >2212</td>\n",
       "            </tr>\n",
       "    </tbody></table>   <style  type=\"text/css\" >\n",
       "</style><table id=\"T_23a7b1f1_5c7b_11ed_a792_5c879cf7915c\" style='display:inline'><caption>All</caption><thead>    <tr>        <th class=\"blank level0\" ></th>        <th class=\"col_heading level0 col0\" >Floor Type</th>        <th class=\"col_heading level0 col1\" >Price</th>    </tr></thead><tbody>\n",
       "                <tr>\n",
       "                        <th id=\"T_23a7b1f1_5c7b_11ed_a792_5c879cf7915clevel0_row0\" class=\"row_heading level0 row0\" >0</th>\n",
       "                        <td id=\"T_23a7b1f1_5c7b_11ed_a792_5c879cf7915crow0_col0\" class=\"data row0 col0\" >Ground</td>\n",
       "                        <td id=\"T_23a7b1f1_5c7b_11ed_a792_5c879cf7915crow0_col1\" class=\"data row0 col1\" >464</td>\n",
       "            </tr>\n",
       "            <tr>\n",
       "                        <th id=\"T_23a7b1f1_5c7b_11ed_a792_5c879cf7915clevel0_row1\" class=\"row_heading level0 row1\" >1</th>\n",
       "                        <td id=\"T_23a7b1f1_5c7b_11ed_a792_5c879cf7915crow1_col0\" class=\"data row1 col0\" >Middle</td>\n",
       "                        <td id=\"T_23a7b1f1_5c7b_11ed_a792_5c879cf7915crow1_col1\" class=\"data row1 col1\" >550</td>\n",
       "            </tr>\n",
       "            <tr>\n",
       "                        <th id=\"T_23a7b1f1_5c7b_11ed_a792_5c879cf7915clevel0_row2\" class=\"row_heading level0 row2\" >2</th>\n",
       "                        <td id=\"T_23a7b1f1_5c7b_11ed_a792_5c879cf7915crow2_col0\" class=\"data row2 col0\" >Top</td>\n",
       "                        <td id=\"T_23a7b1f1_5c7b_11ed_a792_5c879cf7915crow2_col1\" class=\"data row2 col1\" >671</td>\n",
       "            </tr>\n",
       "    </tbody></table>   <style  type=\"text/css\" >\n",
       "</style><table id=\"T_23a84dc6_5c7b_11ed_b66a_5c879cf7915c\" style='display:inline'><caption>10 The Cheapest</caption><thead>    <tr>        <th class=\"blank level0\" ></th>        <th class=\"col_heading level0 col0\" >Floor Type</th>        <th class=\"col_heading level0 col1\" >Price</th>    </tr></thead><tbody>\n",
       "                <tr>\n",
       "                        <th id=\"T_23a84dc6_5c7b_11ed_b66a_5c879cf7915clevel0_row0\" class=\"row_heading level0 row0\" >0</th>\n",
       "                        <td id=\"T_23a84dc6_5c7b_11ed_b66a_5c879cf7915crow0_col0\" class=\"data row0 col0\" >Ground</td>\n",
       "                        <td id=\"T_23a84dc6_5c7b_11ed_b66a_5c879cf7915crow0_col1\" class=\"data row0 col1\" >177</td>\n",
       "            </tr>\n",
       "            <tr>\n",
       "                        <th id=\"T_23a84dc6_5c7b_11ed_b66a_5c879cf7915clevel0_row1\" class=\"row_heading level0 row1\" >1</th>\n",
       "                        <td id=\"T_23a84dc6_5c7b_11ed_b66a_5c879cf7915crow1_col0\" class=\"data row1 col0\" >Middle</td>\n",
       "                        <td id=\"T_23a84dc6_5c7b_11ed_b66a_5c879cf7915crow1_col1\" class=\"data row1 col1\" >150</td>\n",
       "            </tr>\n",
       "            <tr>\n",
       "                        <th id=\"T_23a84dc6_5c7b_11ed_b66a_5c879cf7915clevel0_row2\" class=\"row_heading level0 row2\" >2</th>\n",
       "                        <td id=\"T_23a84dc6_5c7b_11ed_b66a_5c879cf7915crow2_col0\" class=\"data row2 col0\" >Top</td>\n",
       "                        <td id=\"T_23a84dc6_5c7b_11ed_b66a_5c879cf7915crow2_col1\" class=\"data row2 col1\" >170</td>\n",
       "            </tr>\n",
       "    </tbody></table>   "
      ],
      "text/plain": [
       "<IPython.core.display.HTML object>"
      ]
     },
     "metadata": {},
     "output_type": "display_data"
    }
   ],
   "source": [
    "#Display Avg price grouped by Floor Type\n",
    "display_side_by_side([top10,AvgpriceByFloorType,last10],[\"10 Most Expensive\",'All','10 The Cheapest'])"
   ]
  },
  {
   "cell_type": "markdown",
   "metadata": {},
   "source": [
    "We see that on average top floor is more expensive and ground floor is the cheapest , except for 10 cheapest rentals where it's reversed but price difference in very small."
   ]
  },
  {
   "cell_type": "code",
   "execution_count": 52,
   "metadata": {},
   "outputs": [],
   "source": []
  },
  {
   "cell_type": "code",
   "execution_count": 105,
   "metadata": {},
   "outputs": [
    {
     "name": "stdout",
     "output_type": "stream",
     "text": [
      "               Adress  Rooms   m2  Price  Floor Floor Type Size Category\n",
      "196      Skanstes 29a      5  325   2800  24/24        Top          Huge\n",
      "12          Ausekļa 4      5  195   2660    7/7        Top          Huge\n",
      "7       Antonijas 17A      3   86   2200    6/6        Top           Big\n",
      "31        Blaumaņa 16      4  136   1800    4/6     Middle           Big\n",
      "186  Rūpniecības 21k2      5  160   1700    7/7        Top           Big\n"
     ]
    }
   ],
   "source": [
    "#create size categories for m2 using condition statements\n",
    "\n",
    "category = []\n",
    "for i in df_sorted['m2']:\n",
    "    if i <=30:\n",
    "        category.append('Small')   \n",
    "    elif i <= 80:\n",
    "        category.append('Normal')\n",
    "    elif i <= 160:\n",
    "        category.append('Big')\n",
    "    else:\n",
    "        category.append('Huge')\n",
    "\n",
    "df_sorted['Size Category'] = category\n",
    "print(df_sorted.head())\n"
   ]
  },
  {
   "cell_type": "code",
   "execution_count": 116,
   "metadata": {},
   "outputs": [
    {
     "data": {
      "text/html": [
       "<div>\n",
       "<style scoped>\n",
       "    .dataframe tbody tr th:only-of-type {\n",
       "        vertical-align: middle;\n",
       "    }\n",
       "\n",
       "    .dataframe tbody tr th {\n",
       "        vertical-align: top;\n",
       "    }\n",
       "\n",
       "    .dataframe thead tr th {\n",
       "        text-align: left;\n",
       "    }\n",
       "</style>\n",
       "<table border=\"1\" class=\"dataframe\">\n",
       "  <thead>\n",
       "    <tr>\n",
       "      <th></th>\n",
       "      <th>Size Category</th>\n",
       "      <th colspan=\"3\" halign=\"left\">Price</th>\n",
       "    </tr>\n",
       "    <tr>\n",
       "      <th></th>\n",
       "      <th></th>\n",
       "      <th>min</th>\n",
       "      <th>max</th>\n",
       "      <th>mean</th>\n",
       "    </tr>\n",
       "  </thead>\n",
       "  <tbody>\n",
       "    <tr>\n",
       "      <th>0</th>\n",
       "      <td>Big</td>\n",
       "      <td>170</td>\n",
       "      <td>2200</td>\n",
       "      <td>950</td>\n",
       "    </tr>\n",
       "    <tr>\n",
       "      <th>1</th>\n",
       "      <td>Huge</td>\n",
       "      <td>1000</td>\n",
       "      <td>2800</td>\n",
       "      <td>2015</td>\n",
       "    </tr>\n",
       "    <tr>\n",
       "      <th>2</th>\n",
       "      <td>Normal</td>\n",
       "      <td>165</td>\n",
       "      <td>1200</td>\n",
       "      <td>470</td>\n",
       "    </tr>\n",
       "    <tr>\n",
       "      <th>3</th>\n",
       "      <td>Small</td>\n",
       "      <td>90</td>\n",
       "      <td>830</td>\n",
       "      <td>274</td>\n",
       "    </tr>\n",
       "  </tbody>\n",
       "</table>\n",
       "</div>"
      ],
      "text/plain": [
       "  Size Category Price            \n",
       "                  min   max  mean\n",
       "0           Big   170  2200   950\n",
       "1          Huge  1000  2800  2015\n",
       "2        Normal   165  1200   470\n",
       "3         Small    90   830   274"
      ]
     },
     "execution_count": 116,
     "metadata": {},
     "output_type": "execute_result"
    }
   ],
   "source": [
    "#explore price in each size category\n",
    "df_sorted.groupby('Size Category')[['Price']].aggregate([min, max, 'mean']).astype(int).reset_index()                                                 "
   ]
  },
  {
   "cell_type": "code",
   "execution_count": 118,
   "metadata": {},
   "outputs": [
    {
     "data": {
      "text/plain": [
       "<AxesSubplot:xlabel='Size Category', ylabel='Price'>"
      ]
     },
     "execution_count": 118,
     "metadata": {},
     "output_type": "execute_result"
    },
    {
     "data": {
      "image/png": "[encoded data removed]",
      "text/plain": [
       "<Figure size 720x504 with 1 Axes>"
      ]
     },
     "metadata": {},
     "output_type": "display_data"
    }
   ],
   "source": [
    "sns.set(rc = {'figure.figsize':(10,7)})\n",
    "sns.violinplot(x=\"Size Category\", y=\"Price\", data=df_sorted)\n"
   ]
  },
  {
   "cell_type": "markdown",
   "metadata": {},
   "source": [
    "On average bigger square footage translates in higher price, but price range between smallest and biggest price in each category is massive. "
   ]
  },
  {
   "cell_type": "code",
   "execution_count": 71,
   "metadata": {},
   "outputs": [
    {
     "name": "stdout",
     "output_type": "stream",
     "text": [
      "Rooms\n",
      "1     30\n",
      "2     51\n",
      "3     81\n",
      "4    116\n",
      "5    186\n",
      "8    203\n",
      "Name: m2, dtype: int32\n"
     ]
    }
   ],
   "source": [
    "#find out Avg size per Nr of Rooms\n",
    "AvgRoomSize=df.groupby('Rooms')[\"m2\"].mean().astype(int)\n",
    "print(AvgRoomSize)"
   ]
  },
  {
   "cell_type": "code",
   "execution_count": 113,
   "metadata": {},
   "outputs": [
    {
     "data": {
      "text/plain": [
       "Size Category\n",
       "Big        54\n",
       "Huge        4\n",
       "Normal    152\n",
       "Small      39\n",
       "dtype: int64"
      ]
     },
     "execution_count": 113,
     "metadata": {},
     "output_type": "execute_result"
    }
   ],
   "source": [
    "#explore number of flats available in each size category\n",
    "df_sorted.groupby(\"Size Category\").size()"
   ]
  },
  {
   "cell_type": "code",
   "execution_count": 6,
   "metadata": {},
   "outputs": [
    {
     "ename": "NameError",
     "evalue": "name 'df_sorted' is not defined",
     "output_type": "error",
     "traceback": [
      "\u001b[1;31m---------------------------------------------------------------------------\u001b[0m",
      "\u001b[1;31mNameError\u001b[0m                                 Traceback (most recent call last)",
      "\u001b[1;32m<ipython-input-6-ab1f4bc8ea76>\u001b[0m in \u001b[0;36m<module>\u001b[1;34m\u001b[0m\n\u001b[0;32m      1\u001b[0m \u001b[0mfunction_dictionary\u001b[0m \u001b[1;33m=\u001b[0m \u001b[1;33m{\u001b[0m\u001b[1;34m'Size Category'\u001b[0m\u001b[1;33m:\u001b[0m\u001b[1;34m'count'\u001b[0m\u001b[1;33m,\u001b[0m\u001b[1;34m'Price'\u001b[0m\u001b[1;33m:\u001b[0m\u001b[1;34m'mean'\u001b[0m\u001b[1;33m}\u001b[0m\u001b[1;33m\u001b[0m\u001b[1;33m\u001b[0m\u001b[0m\n\u001b[1;32m----> 2\u001b[1;33m \u001b[0mdf_sorted\u001b[0m\u001b[1;33m.\u001b[0m\u001b[0mgroupby\u001b[0m\u001b[1;33m(\u001b[0m\u001b[1;34m\"Rooms\"\u001b[0m\u001b[1;33m)\u001b[0m\u001b[1;33m.\u001b[0m\u001b[0maggregate\u001b[0m\u001b[1;33m(\u001b[0m\u001b[0mfunction_dictionary\u001b[0m\u001b[1;33m)\u001b[0m\u001b[1;33m\u001b[0m\u001b[1;33m\u001b[0m\u001b[0m\n\u001b[0m",
      "\u001b[1;31mNameError\u001b[0m: name 'df_sorted' is not defined"
     ]
    }
   ],
   "source": [
    "function_dictionary = {'Size Category':'count','Price':'mean'}\n",
    "df_sorted.groupby(\"Rooms\").aggregate(function_dictionary)"
   ]
  },
  {
   "cell_type": "code",
   "execution_count": null,
   "metadata": {},
   "outputs": [],
   "source": []
  }
 ],
 "metadata": {
  "kernelspec": {
   "display_name": "Python 3",
   "language": "python",
   "name": "python3"
  },
  "language_info": {
   "codemirror_mode": {
    "name": "ipython",
    "version": 3
   },
   "file_extension": ".py",
   "mimetype": "text/x-python",
   "name": "python",
   "nbconvert_exporter": "python",
   "pygments_lexer": "ipython3",
   "version": "3.8.5"
  }
 },
 "nbformat": 4,
 "nbformat_minor": 4
}
